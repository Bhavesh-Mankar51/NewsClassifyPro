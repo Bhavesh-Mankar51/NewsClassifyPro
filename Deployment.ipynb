{
 "cells": [
  {
   "cell_type": "code",
   "execution_count": 1,
   "id": "a9158ed3-8f74-4fac-abfc-f3e4a27ee529",
   "metadata": {
    "execution": {
     "iopub.execute_input": "2025-07-23T13:31:08.392628Z",
     "iopub.status.busy": "2025-07-23T13:31:08.391785Z",
     "iopub.status.idle": "2025-07-23T13:31:11.103823Z",
     "shell.execute_reply": "2025-07-23T13:31:11.103076Z",
     "shell.execute_reply.started": "2025-07-23T13:31:08.392595Z"
    }
   },
   "outputs": [
    {
     "name": "stdout",
     "output_type": "stream",
     "text": [
      "Requirement already satisfied: transformers in /opt/conda/lib/python3.12/site-packages (4.53.1)\n",
      "Requirement already satisfied: filelock in /opt/conda/lib/python3.12/site-packages (from transformers) (3.18.0)\n",
      "Requirement already satisfied: huggingface-hub<1.0,>=0.30.0 in /opt/conda/lib/python3.12/site-packages (from transformers) (0.33.1)\n",
      "Requirement already satisfied: numpy>=1.17 in /opt/conda/lib/python3.12/site-packages (from transformers) (1.26.4)\n",
      "Requirement already satisfied: packaging>=20.0 in /opt/conda/lib/python3.12/site-packages (from transformers) (24.2)\n",
      "Requirement already satisfied: pyyaml>=5.1 in /opt/conda/lib/python3.12/site-packages (from transformers) (6.0.2)\n",
      "Requirement already satisfied: regex!=2019.12.17 in /opt/conda/lib/python3.12/site-packages (from transformers) (2024.11.6)\n",
      "Requirement already satisfied: requests in /opt/conda/lib/python3.12/site-packages (from transformers) (2.32.4)\n",
      "Requirement already satisfied: tokenizers<0.22,>=0.21 in /opt/conda/lib/python3.12/site-packages (from transformers) (0.21.4.dev0)\n",
      "Requirement already satisfied: safetensors>=0.4.3 in /opt/conda/lib/python3.12/site-packages (from transformers) (0.5.3)\n",
      "Requirement already satisfied: tqdm>=4.27 in /opt/conda/lib/python3.12/site-packages (from transformers) (4.67.1)\n",
      "Requirement already satisfied: fsspec>=2023.5.0 in /opt/conda/lib/python3.12/site-packages (from huggingface-hub<1.0,>=0.30.0->transformers) (2024.12.0)\n",
      "Requirement already satisfied: hf-xet<2.0.0,>=1.1.2 in /opt/conda/lib/python3.12/site-packages (from huggingface-hub<1.0,>=0.30.0->transformers) (1.1.5)\n",
      "Requirement already satisfied: typing-extensions>=3.7.4.3 in /opt/conda/lib/python3.12/site-packages (from huggingface-hub<1.0,>=0.30.0->transformers) (4.14.1)\n",
      "Requirement already satisfied: charset_normalizer<4,>=2 in /opt/conda/lib/python3.12/site-packages (from requests->transformers) (3.4.2)\n",
      "Requirement already satisfied: idna<4,>=2.5 in /opt/conda/lib/python3.12/site-packages (from requests->transformers) (3.10)\n",
      "Requirement already satisfied: urllib3<3,>=1.21.1 in /opt/conda/lib/python3.12/site-packages (from requests->transformers) (1.26.19)\n",
      "Requirement already satisfied: certifi>=2017.4.17 in /opt/conda/lib/python3.12/site-packages (from requests->transformers) (2025.6.15)\n"
     ]
    }
   ],
   "source": [
    "!pip install transformers"
   ]
  },
  {
   "cell_type": "code",
   "execution_count": null,
   "id": "e7399d16-44a7-4bfb-90f6-4180a485dd1b",
   "metadata": {
    "execution": {
     "iopub.execute_input": "2025-07-23T13:31:26.052691Z",
     "iopub.status.busy": "2025-07-23T13:31:26.052076Z",
     "iopub.status.idle": "2025-07-23T13:31:26.351824Z",
     "shell.execute_reply": "2025-07-23T13:31:26.351119Z",
     "shell.execute_reply.started": "2025-07-23T13:31:26.052662Z"
    }
   },
   "outputs": [],
   "source": [
    "from sagemaker.huggingface import HuggingFaceModel\n",
    "from sagemaker import get_execution_role\n",
    "\n",
    "role = get_execution_role()\n",
    "\n",
    "model_s3_path = 's3_path_to_your_model'  \n",
    "\n",
    "huggingface_model = HuggingFaceModel(\n",
    "    model_data = model_s3_path,\n",
    "    role = role,\n",
    "    transformers_version = \"4.17\",\n",
    "    pytorch_version = \"1.10\",\n",
    "    py_version = \"py38\",\n",
    "    entry_point = \"inference.py\"\n",
    ")\n"
   ]
  },
  {
   "cell_type": "code",
   "execution_count": 4,
   "id": "0132d65c-3302-4657-b025-efe2435bc5fd",
   "metadata": {
    "execution": {
     "iopub.execute_input": "2025-07-23T13:33:31.417706Z",
     "iopub.status.busy": "2025-07-23T13:33:31.416840Z",
     "iopub.status.idle": "2025-07-23T13:36:52.624920Z",
     "shell.execute_reply": "2025-07-23T13:36:52.624005Z",
     "shell.execute_reply.started": "2025-07-23T13:33:31.417676Z"
    }
   },
   "outputs": [
    {
     "name": "stdout",
     "output_type": "stream",
     "text": [
      "-----!"
     ]
    }
   ],
   "source": [
    "predictor = huggingface_model.deploy(\n",
    "    initial_instance_count = 1,\n",
    "    instance_type = \"ml.m5.xlarge\",\n",
    "    endpoint_name = \"news-multiclass-classification-endpointv1\"\n",
    ")"
   ]
  },
  {
   "cell_type": "code",
   "execution_count": null,
   "id": "2a8dea39-e657-4acd-8f27-3b8454831701",
   "metadata": {
    "execution": {
     "iopub.execute_input": "2025-07-23T13:38:53.401820Z",
     "iopub.status.busy": "2025-07-23T13:38:53.401441Z",
     "iopub.status.idle": "2025-07-23T13:38:53.405335Z",
     "shell.execute_reply": "2025-07-23T13:38:53.404614Z",
     "shell.execute_reply.started": "2025-07-23T13:38:53.401795Z"
    }
   },
   "outputs": [],
   "source": [
    "data = {\"inputs\": \"HEADLINE-OF-NEWS-ARTICLE-YOU-WANT-TO-TEST\"}"
   ]
  },
  {
   "cell_type": "code",
   "execution_count": 12,
   "id": "5023af51-704b-486d-91bd-6728479fbf60",
   "metadata": {
    "execution": {
     "iopub.execute_input": "2025-07-23T13:38:54.162101Z",
     "iopub.status.busy": "2025-07-23T13:38:54.161721Z",
     "iopub.status.idle": "2025-07-23T13:38:55.478883Z",
     "shell.execute_reply": "2025-07-23T13:38:55.477978Z",
     "shell.execute_reply.started": "2025-07-23T13:38:54.162079Z"
    }
   },
   "outputs": [],
   "source": [
    "prediction = predictor.predict(data)"
   ]
  },
  {
   "cell_type": "code",
   "execution_count": null,
   "id": "d32f7eb3-0b54-468c-92bf-99a23c711d66",
   "metadata": {},
   "outputs": [],
   "source": [
    "prediction"
   ]
  }
 ],
 "metadata": {
  "kernelspec": {
   "display_name": "Python 3 (ipykernel)",
   "language": "python",
   "name": "python3"
  },
  "language_info": {
   "codemirror_mode": {
    "name": "ipython",
    "version": 3
   },
   "file_extension": ".py",
   "mimetype": "text/x-python",
   "name": "python",
   "nbconvert_exporter": "python",
   "pygments_lexer": "ipython3",
   "version": "3.12.9"
  }
 },
 "nbformat": 4,
 "nbformat_minor": 5
}
