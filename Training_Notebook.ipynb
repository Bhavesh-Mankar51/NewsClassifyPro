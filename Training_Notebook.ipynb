{
 "cells": [
  {
   "cell_type": "code",
   "execution_count": null,
   "id": "42ab5395-a630-4dff-b457-109b119c08a4",
   "metadata": {
    "execution": {
     "iopub.execute_input": "2025-07-22T20:05:50.400798Z",
     "iopub.status.busy": "2025-07-22T20:05:50.400465Z",
     "iopub.status.idle": "2025-07-22T20:05:52.802339Z",
     "shell.execute_reply": "2025-07-22T20:05:52.801432Z",
     "shell.execute_reply.started": "2025-07-22T20:05:50.400774Z"
    }
   },
   "outputs": [
    {
     "name": "stdout",
     "output_type": "stream",
     "text": [
      "Requirement already satisfied: transformers in /opt/conda/lib/python3.12/site-packages (4.53.1)\n",
      "Requirement already satisfied: filelock in /opt/conda/lib/python3.12/site-packages (from transformers) (3.18.0)\n",
      "Requirement already satisfied: huggingface-hub<1.0,>=0.30.0 in /opt/conda/lib/python3.12/site-packages (from transformers) (0.33.1)\n",
      "Requirement already satisfied: numpy>=1.17 in /opt/conda/lib/python3.12/site-packages (from transformers) (1.26.4)\n",
      "Requirement already satisfied: packaging>=20.0 in /opt/conda/lib/python3.12/site-packages (from transformers) (24.2)\n",
      "Requirement already satisfied: pyyaml>=5.1 in /opt/conda/lib/python3.12/site-packages (from transformers) (6.0.2)\n",
      "Requirement already satisfied: regex!=2019.12.17 in /opt/conda/lib/python3.12/site-packages (from transformers) (2024.11.6)\n",
      "Requirement already satisfied: requests in /opt/conda/lib/python3.12/site-packages (from transformers) (2.32.4)\n",
      "Requirement already satisfied: tokenizers<0.22,>=0.21 in /opt/conda/lib/python3.12/site-packages (from transformers) (0.21.4.dev0)\n",
      "Requirement already satisfied: safetensors>=0.4.3 in /opt/conda/lib/python3.12/site-packages (from transformers) (0.5.3)\n",
      "Requirement already satisfied: tqdm>=4.27 in /opt/conda/lib/python3.12/site-packages (from transformers) (4.67.1)\n",
      "Requirement already satisfied: fsspec>=2023.5.0 in /opt/conda/lib/python3.12/site-packages (from huggingface-hub<1.0,>=0.30.0->transformers) (2024.12.0)\n",
      "Requirement already satisfied: hf-xet<2.0.0,>=1.1.2 in /opt/conda/lib/python3.12/site-packages (from huggingface-hub<1.0,>=0.30.0->transformers) (1.1.5)\n",
      "Requirement already satisfied: typing-extensions>=3.7.4.3 in /opt/conda/lib/python3.12/site-packages (from huggingface-hub<1.0,>=0.30.0->transformers) (4.14.1)\n",
      "Requirement already satisfied: charset_normalizer<4,>=2 in /opt/conda/lib/python3.12/site-packages (from requests->transformers) (3.4.2)\n",
      "Requirement already satisfied: idna<4,>=2.5 in /opt/conda/lib/python3.12/site-packages (from requests->transformers) (3.10)\n",
      "Requirement already satisfied: urllib3<3,>=1.21.1 in /opt/conda/lib/python3.12/site-packages (from requests->transformers) (1.26.19)\n",
      "Requirement already satisfied: certifi>=2017.4.17 in /opt/conda/lib/python3.12/site-packages (from requests->transformers) (2025.6.15)\n"
     ]
    }
   ],
   "source": [
    "!pip install transformers"
   ]
  },
  {
   "cell_type": "code",
   "execution_count": null,
   "id": "da3c1f3a-988a-4c2e-82f5-e9a61c061399",
   "metadata": {
    "execution": {
     "iopub.execute_input": "2025-07-22T20:05:54.374230Z",
     "iopub.status.busy": "2025-07-22T20:05:54.373838Z",
     "iopub.status.idle": "2025-07-22T20:06:02.634047Z",
     "shell.execute_reply": "2025-07-22T20:06:02.633188Z",
     "shell.execute_reply.started": "2025-07-22T20:05:54.374204Z"
    }
   },
   "outputs": [
    {
     "name": "stdout",
     "output_type": "stream",
     "text": [
      "sagemaker.config INFO - Not applying SDK defaults from location: /etc/xdg/sagemaker/config.yaml\n",
      "sagemaker.config INFO - Not applying SDK defaults from location: /home/sagemaker-user/.config/sagemaker/config.yaml\n"
     ]
    }
   ],
   "source": [
    "import torch\n",
    "import transformers\n",
    "import sagemaker\n",
    "from sagemaker.huggingface import HuggingFace\n",
    "from sagemaker import get_execution_role\n",
    "\n",
    "role = get_execution_role()"
   ]
  },
  {
   "cell_type": "code",
   "execution_count": null,
   "id": "42e4e478",
   "metadata": {},
   "outputs": [],
   "source": [
    "role"
   ]
  },
  {
   "cell_type": "code",
   "execution_count": 9,
   "id": "497ff6b7-bb7a-4de8-96e9-84d0ae2ee2a4",
   "metadata": {
    "execution": {
     "iopub.execute_input": "2025-07-22T20:09:11.769589Z",
     "iopub.status.busy": "2025-07-22T20:09:11.768720Z",
     "iopub.status.idle": "2025-07-22T20:09:11.802836Z",
     "shell.execute_reply": "2025-07-22T20:09:11.802011Z",
     "shell.execute_reply.started": "2025-07-22T20:09:11.769561Z"
    }
   },
   "outputs": [],
   "source": [
    "sagemaker_session = sagemaker.Session()"
   ]
  },
  {
   "cell_type": "code",
   "execution_count": null,
   "id": "374194a0-b0df-456d-87f7-2f5b3ebfc714",
   "metadata": {
    "execution": {
     "iopub.execute_input": "2025-07-23T07:39:54.994250Z",
     "iopub.status.busy": "2025-07-23T07:39:54.993970Z",
     "iopub.status.idle": "2025-07-23T07:39:55.034463Z",
     "shell.execute_reply": "2025-07-23T07:39:55.033724Z",
     "shell.execute_reply.started": "2025-07-23T07:39:54.994228Z"
    }
   },
   "outputs": [],
   "source": [
    "huggingface_estimator = HuggingFace(\n",
    "                        entry_point = 'script.py',\n",
    "                        source_dir = './',\n",
    "                        role = role,\n",
    "                        instance_count = 1,\n",
    "                        instance_type = 'ml.g6.4xlarge',\n",
    "                        transformers_version = '4.6',\n",
    "                        pytorch_version = '1.8',\n",
    "                        output_path = 's3_path_to_your_output_directory',\n",
    "                        py_version = 'py36',\n",
    "                        hyperparameters = {'epochs':2,\n",
    "                                            'train_batch_size':4,\n",
    "                                            'valid_batch_size':2,\n",
    "                                            'learning_rate':1e-05\n",
    "                                          },\n",
    "                        enable_sagemaker_metrics = True)"
   ]
  },
  {
   "cell_type": "code",
   "execution_count": null,
   "id": "a431ffc8-0f1a-4b45-b360-cb309ef73d58",
   "metadata": {},
   "outputs": [],
   "source": [
    "huggingface_estimator.fit()"
   ]
  }
 ],
 "metadata": {
  "kernelspec": {
   "display_name": "Python 3 (ipykernel)",
   "language": "python",
   "name": "python3"
  },
  "language_info": {
   "codemirror_mode": {
    "name": "ipython",
    "version": 3
   },
   "file_extension": ".py",
   "mimetype": "text/x-python",
   "name": "python",
   "nbconvert_exporter": "python",
   "pygments_lexer": "ipython3",
   "version": "3.12.9"
  }
 },
 "nbformat": 4,
 "nbformat_minor": 5
}
